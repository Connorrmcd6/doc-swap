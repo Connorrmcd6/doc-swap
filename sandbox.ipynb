{
 "cells": [
  {
   "cell_type": "code",
   "execution_count": 3,
   "metadata": {},
   "outputs": [
    {
     "ename": "UnicodeDecodeError",
     "evalue": "'utf-8' codec can't decode byte 0x89 in position 0: invalid start byte",
     "output_type": "error",
     "traceback": [
      "\u001b[0;31m---------------------------------------------------------------------------\u001b[0m",
      "\u001b[0;31mUnicodeDecodeError\u001b[0m                        Traceback (most recent call last)",
      "\u001b[1;32m/Users/connormcdonald/Desktop/GitHub/doc-swap/sandbox.ipynb Cell 1\u001b[0m line \u001b[0;36m2\n\u001b[1;32m     <a href='vscode-notebook-cell:/Users/connormcdonald/Desktop/GitHub/doc-swap/sandbox.ipynb#X20sZmlsZQ%3D%3D?line=25'>26</a>\u001b[0m \u001b[39m# Example usage:\u001b[39;00m\n\u001b[1;32m     <a href='vscode-notebook-cell:/Users/connormcdonald/Desktop/GitHub/doc-swap/sandbox.ipynb#X20sZmlsZQ%3D%3D?line=26'>27</a>\u001b[0m input_svg_filename \u001b[39m=\u001b[39m \u001b[39m'\u001b[39m\u001b[39mdiagrams/finalqr.svg\u001b[39m\u001b[39m'\u001b[39m\n\u001b[0;32m---> <a href='vscode-notebook-cell:/Users/connormcdonald/Desktop/GitHub/doc-swap/sandbox.ipynb#X20sZmlsZQ%3D%3D?line=27'>28</a>\u001b[0m decoded_svg \u001b[39m=\u001b[39m decode_base64_in_svg(input_svg_filename)\n",
      "\u001b[1;32m/Users/connormcdonald/Desktop/GitHub/doc-swap/sandbox.ipynb Cell 1\u001b[0m line \u001b[0;36m2\n\u001b[1;32m     <a href='vscode-notebook-cell:/Users/connormcdonald/Desktop/GitHub/doc-swap/sandbox.ipynb#X20sZmlsZQ%3D%3D?line=17'>18</a>\u001b[0m     decoded_data \u001b[39m=\u001b[39m base64\u001b[39m.\u001b[39mb64decode(base64_data)\n\u001b[1;32m     <a href='vscode-notebook-cell:/Users/connormcdonald/Desktop/GitHub/doc-swap/sandbox.ipynb#X20sZmlsZQ%3D%3D?line=19'>20</a>\u001b[0m     \u001b[39m# Replace the base64 string with the decoded data in the SVG content\u001b[39;00m\n\u001b[0;32m---> <a href='vscode-notebook-cell:/Users/connormcdonald/Desktop/GitHub/doc-swap/sandbox.ipynb#X20sZmlsZQ%3D%3D?line=20'>21</a>\u001b[0m     svg_content \u001b[39m=\u001b[39m svg_content\u001b[39m.\u001b[39mreplace(\u001b[39mf\u001b[39m\u001b[39m'\u001b[39m\u001b[39mdata:image;base64,\u001b[39m\u001b[39m{\u001b[39;00mbase64_data\u001b[39m}\u001b[39;00m\u001b[39m'\u001b[39m, decoded_data\u001b[39m.\u001b[39;49mdecode(\u001b[39m'\u001b[39;49m\u001b[39mutf-8\u001b[39;49m\u001b[39m'\u001b[39;49m))\n\u001b[1;32m     <a href='vscode-notebook-cell:/Users/connormcdonald/Desktop/GitHub/doc-swap/sandbox.ipynb#X20sZmlsZQ%3D%3D?line=22'>23</a>\u001b[0m \u001b[39m# Return the SVG content with base64 data decoded\u001b[39;00m\n\u001b[1;32m     <a href='vscode-notebook-cell:/Users/connormcdonald/Desktop/GitHub/doc-swap/sandbox.ipynb#X20sZmlsZQ%3D%3D?line=23'>24</a>\u001b[0m \u001b[39mreturn\u001b[39;00m svg_content\n",
      "\u001b[0;31mUnicodeDecodeError\u001b[0m: 'utf-8' codec can't decode byte 0x89 in position 0: invalid start byte"
     ]
    }
   ],
   "source": [
    "import base64\n",
    "import re\n",
    "\n",
    "def decode_base64_in_svg(svg_filename):\n",
    "    # Read the SVG file\n",
    "    with open(svg_filename, 'r') as svg_file:\n",
    "        svg_content = svg_file.read()\n",
    "\n",
    "    # Define a regular expression to find base64 encoded strings\n",
    "    base64_pattern = r'data:image/[^;]+;base64,([^\"]+)'\n",
    "\n",
    "    # Find all matches of base64 encoded strings in the SVG content\n",
    "    base64_matches = re.findall(base64_pattern, svg_content)\n",
    "\n",
    "    # Iterate over each match and decode the base64 data\n",
    "    for base64_data in base64_matches:\n",
    "        # Decode the base64 data\n",
    "        decoded_data = base64.b64decode(base64_data)\n",
    "\n",
    "        # Replace the base64 string with the decoded data in the SVG content\n",
    "        svg_content = svg_content.replace(f'data:image;base64,{base64_data}', decoded_data.decode('utf-8'))\n",
    "\n",
    "    # Return the SVG content with base64 data decoded\n",
    "    return svg_content\n",
    "\n",
    "# Example usage:\n",
    "input_svg_filename = 'diagrams/finalqr.svg'\n",
    "decoded_svg = decode_base64_in_svg(input_svg_filename)\n",
    "\n",
    "# You can then save the decoded SVG content to a file or do further processing.\n",
    "# with open('decoded_example.svg', 'w') as output_svg_file:\n",
    "#     output_svg_file.write(decoded_svg)\n"
   ]
  },
  {
   "cell_type": "code",
   "execution_count": 1,
   "metadata": {},
   "outputs": [],
   "source": [
    "from configs import *\n",
    "import numpy as np\n",
    "import pandas as pd\n",
    "import streamlit as st\n",
    "import gspread\n",
    "from google.oauth2 import service_account\n"
   ]
  },
  {
   "cell_type": "code",
   "execution_count": 2,
   "metadata": {},
   "outputs": [],
   "source": [
    "def connect_to_gs(_service_account_key):\n",
    "    scopes = [\"https://www.googleapis.com/auth/spreadsheets\"]\n",
    "    credentials = service_account.Credentials.from_service_account_info(\n",
    "        _service_account_key, scopes=scopes\n",
    "    )\n",
    "    gs_connection = gspread.authorize(credentials)\n",
    "    return gs_connection"
   ]
  },
  {
   "cell_type": "code",
   "execution_count": 3,
   "metadata": {},
   "outputs": [],
   "source": [
    "gs_connection = connect_to_gs(st.secrets[\"gcp_service_account\"])"
   ]
  },
  {
   "cell_type": "code",
   "execution_count": 4,
   "metadata": {},
   "outputs": [],
   "source": [
    "def fetch_swap_data(_gc, sheet_name, sheet_key, columns_list):\n",
    "    try:\n",
    "        # Open specific sheet\n",
    "        gs = _gc.open_by_key(sheet_key)\n",
    "\n",
    "        # Open specific tab within the sheet\n",
    "        tab = gs.worksheet(sheet_name)\n",
    "\n",
    "        data = tab.get_all_values()\n",
    "        headers = data.pop(0)\n",
    "        df = pd.DataFrame(data, columns=headers)\n",
    "\n",
    "        # to handle numeric columns that are imported as strings\n",
    "        for column in columns_list:\n",
    "            df[column] = pd.to_numeric(df[column])\n",
    "\n",
    "        return df\n",
    "\n",
    "    except gspread.exceptions.APIError as e:\n",
    "        print(\"Error accessing Google Sheets API:\", e)\n",
    "        return None\n",
    "    except gspread.exceptions.WorksheetNotFound as e:\n",
    "        print(\"Error: Worksheet not found:\", e)\n",
    "        return None\n",
    "    except Exception as e:\n",
    "        print(\"An error occurred:\", e)\n",
    "        return None\n"
   ]
  },
  {
   "cell_type": "code",
   "execution_count": 5,
   "metadata": {},
   "outputs": [],
   "source": [
    "sd = fetch_swap_data(gs_connection, find_swap_table, prod_google_sheet_key, [])"
   ]
  },
  {
   "cell_type": "code",
   "execution_count": 8,
   "metadata": {},
   "outputs": [],
   "source": [
    "def count_unique_values(df, column_name):\n",
    "    if column_name not in df.columns:\n",
    "        raise ValueError(f\"Column '{column_name}' not found in the DataFrame.\")\n",
    "    \n",
    "    unique_values = df[column_name].nunique()\n",
    "    return unique_values"
   ]
  },
  {
   "cell_type": "code",
   "execution_count": 10,
   "metadata": {},
   "outputs": [],
   "source": [
    "unique_users = count_unique_values(sd, \"email\")"
   ]
  },
  {
   "cell_type": "code",
   "execution_count": 11,
   "metadata": {},
   "outputs": [
    {
     "data": {
      "text/plain": [
       "2"
      ]
     },
     "execution_count": 11,
     "metadata": {},
     "output_type": "execute_result"
    }
   ],
   "source": [
    "unique_users"
   ]
  },
  {
   "cell_type": "code",
   "execution_count": 17,
   "metadata": {},
   "outputs": [],
   "source": [
    "def count_grouped_values(df):\n",
    "    if not all(col in df.columns for col in ['current_placement', 'first_choice', 'second_choice', 'third_choice']):\n",
    "        raise ValueError(\"Required columns not found in the DataFrame.\")\n",
    "    \n",
    "    placement_counts = df['current_placement'].value_counts()\n",
    "    first_choice_counts = df['first_choice'].value_counts()\n",
    "    second_choice_counts = df['second_choice'].value_counts()\n",
    "    third_choice_counts = df['third_choice'].value_counts()\n",
    "    \n",
    "    return placement_counts, first_choice_counts, second_choice_counts, third_choice_counts\n"
   ]
  },
  {
   "cell_type": "code",
   "execution_count": 18,
   "metadata": {},
   "outputs": [],
   "source": [
    "placement_counts, first_choice_counts, second_choice_counts, third_choice_counts = count_grouped_values(sd)"
   ]
  },
  {
   "cell_type": "code",
   "execution_count": 19,
   "metadata": {},
   "outputs": [
    {
     "data": {
      "text/plain": [
       "Addington Hospital    1\n",
       "Boitumelo Hospital    1\n",
       "Name: current_placement, dtype: int64"
      ]
     },
     "execution_count": 19,
     "metadata": {},
     "output_type": "execute_result"
    }
   ],
   "source": [
    "placement_counts"
   ]
  },
  {
   "cell_type": "code",
   "execution_count": null,
   "metadata": {},
   "outputs": [],
   "source": [
    "df = categories(drinks)\n",
    "domain = ['First Choice', 'Second Choice', 'Third Choice']\n",
    "range_ = ['#c62828', '\t#ef9a8d', '#777777', 'blue']\n",
    "\n",
    "bar_chart = (\n",
    "    alt.Chart(df)\n",
    "    .mark_bar()\n",
    "    .encode(\n",
    "        alt.X(\"Name:O\", axis=alt.Axis(title=\"Name\"), sort=\"-y\"),\n",
    "        alt.Y(\"sum(quantity):Q\", axis=alt.Axis(title=\"Drinks\")),\n",
    "        alt.Order(\"sum(quantity):Q\", sort=\"descending\"),\n",
    "        alt.Color(\n",
    "            \"Category:N\",\n",
    "            scale=alt.Scale(domain=domain, range=range_),\n",
    "            legend=alt.Legend(orient=\"top\", direction=\"horizontal\", title=None),\n",
    "        ),\n",
    "    )\n",
    ")\n",
    "st.altair_chart(bar_chart, use_container_width=True)"
   ]
  },
  {
   "cell_type": "code",
   "execution_count": 20,
   "metadata": {},
   "outputs": [],
   "source": [
    "def pivot_choices_to_new_df(df):\n",
    "    if not all(col in df.columns for col in ['first_choice', 'second_choice', 'third_choice']):\n",
    "        raise ValueError(\"Required columns not found in the DataFrame.\")\n",
    "    \n",
    "    # Reshape the data to long format\n",
    "    choices_df = pd.melt(df, value_vars=['first_choice', 'second_choice', 'third_choice'],\n",
    "                         var_name='choice', value_name='hospital')\n",
    "    \n",
    "    return choices_df"
   ]
  },
  {
   "cell_type": "code",
   "execution_count": 21,
   "metadata": {},
   "outputs": [
    {
     "data": {
      "text/html": [
       "<div>\n",
       "<style scoped>\n",
       "    .dataframe tbody tr th:only-of-type {\n",
       "        vertical-align: middle;\n",
       "    }\n",
       "\n",
       "    .dataframe tbody tr th {\n",
       "        vertical-align: top;\n",
       "    }\n",
       "\n",
       "    .dataframe thead th {\n",
       "        text-align: right;\n",
       "    }\n",
       "</style>\n",
       "<table border=\"1\" class=\"dataframe\">\n",
       "  <thead>\n",
       "    <tr style=\"text-align: right;\">\n",
       "      <th></th>\n",
       "      <th>choice</th>\n",
       "      <th>hospital</th>\n",
       "    </tr>\n",
       "  </thead>\n",
       "  <tbody>\n",
       "    <tr>\n",
       "      <th>0</th>\n",
       "      <td>first_choice</td>\n",
       "      <td>Dr George Mukhari Hospital</td>\n",
       "    </tr>\n",
       "    <tr>\n",
       "      <th>1</th>\n",
       "      <td>first_choice</td>\n",
       "      <td>Addington Hospital</td>\n",
       "    </tr>\n",
       "    <tr>\n",
       "      <th>2</th>\n",
       "      <td>second_choice</td>\n",
       "      <td>Charlotte Maxeke Hospital</td>\n",
       "    </tr>\n",
       "    <tr>\n",
       "      <th>3</th>\n",
       "      <td>second_choice</td>\n",
       "      <td>Dihlabeng Hospital</td>\n",
       "    </tr>\n",
       "    <tr>\n",
       "      <th>4</th>\n",
       "      <td>third_choice</td>\n",
       "      <td>Cofimvaba Hospital</td>\n",
       "    </tr>\n",
       "    <tr>\n",
       "      <th>5</th>\n",
       "      <td>third_choice</td>\n",
       "      <td>Dr George Mukhari Hospital</td>\n",
       "    </tr>\n",
       "  </tbody>\n",
       "</table>\n",
       "</div>"
      ],
      "text/plain": [
       "          choice                    hospital\n",
       "0   first_choice  Dr George Mukhari Hospital\n",
       "1   first_choice          Addington Hospital\n",
       "2  second_choice   Charlotte Maxeke Hospital\n",
       "3  second_choice          Dihlabeng Hospital\n",
       "4   third_choice          Cofimvaba Hospital\n",
       "5   third_choice  Dr George Mukhari Hospital"
      ]
     },
     "execution_count": 21,
     "metadata": {},
     "output_type": "execute_result"
    }
   ],
   "source": [
    "s =  pivot_choices_to_new_df(sd)\n",
    "s"
   ]
  }
 ],
 "metadata": {
  "kernelspec": {
   "display_name": "base",
   "language": "python",
   "name": "python3"
  },
  "language_info": {
   "codemirror_mode": {
    "name": "ipython",
    "version": 3
   },
   "file_extension": ".py",
   "mimetype": "text/x-python",
   "name": "python",
   "nbconvert_exporter": "python",
   "pygments_lexer": "ipython3",
   "version": "3.8.8"
  },
  "orig_nbformat": 4
 },
 "nbformat": 4,
 "nbformat_minor": 2
}
